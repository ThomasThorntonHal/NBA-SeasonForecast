{
 "cells": [
  {
   "cell_type": "markdown",
   "metadata": {},
   "source": [
    "# Scraping the NBA schedule from the Basketball Reference website"
   ]
  },
  {
   "cell_type": "markdown",
   "metadata": {},
   "source": [
    "# Setup"
   ]
  },
  {
   "cell_type": "markdown",
   "metadata": {},
   "source": [
    "## Imports"
   ]
  },
  {
   "cell_type": "code",
   "execution_count": 1,
   "metadata": {},
   "outputs": [],
   "source": [
    "import pandas as pd\n",
    "\n",
    "import numpy as np\n",
    "\n",
    "import matplotlib.pyplot as plt\n",
    "\n",
    "import time"
   ]
  },
  {
   "cell_type": "markdown",
   "metadata": {},
   "source": [
    "# Scraping\n",
    "Use BeautifulSoup to scrape the NBA schedule data from\n",
    "www.basketball-reference.com"
   ]
  },
  {
   "cell_type": "code",
   "execution_count": 2,
   "metadata": {},
   "outputs": [],
   "source": [
    "from bs4 import BeautifulSoup\n",
    "import requests\n",
    "\n",
    "def scrape_month(month):\n",
    "    time.sleep(2.5)\n",
    "    month_url = 'https://www.basketball-reference.com/leagues/NBA_2023_games-' + month + '.html'\n",
    "    month_req = requests.get(month_url)\n",
    "    month_content = month_req.text\n",
    "    month_soup = BeautifulSoup(month_content, 'lxml')\n",
    "    month_games = month_soup.find(name = 'table')\n",
    "    \n",
    "    games = []\n",
    "    for row in month_games.find_all('tr')[1:]:\n",
    "        game = {}\n",
    "        game['Date'] = row.find('a').text.strip()\n",
    "        game['Away team'] = row.find('td', {'data-stat' : 'visitor_team_name'}).text\n",
    "        game['Home team'] = row.find('td', {'data-stat' : 'home_team_name'}).text\n",
    "        games.append(game)\n",
    "        \n",
    "    return pd.DataFrame(games)"
   ]
  },
  {
   "cell_type": "code",
   "execution_count": 3,
   "metadata": {},
   "outputs": [
    {
     "data": {
      "text/html": [
       "<div>\n",
       "<style scoped>\n",
       "    .dataframe tbody tr th:only-of-type {\n",
       "        vertical-align: middle;\n",
       "    }\n",
       "\n",
       "    .dataframe tbody tr th {\n",
       "        vertical-align: top;\n",
       "    }\n",
       "\n",
       "    .dataframe thead th {\n",
       "        text-align: right;\n",
       "    }\n",
       "</style>\n",
       "<table border=\"1\" class=\"dataframe\">\n",
       "  <thead>\n",
       "    <tr style=\"text-align: right;\">\n",
       "      <th></th>\n",
       "      <th>Date</th>\n",
       "      <th>Away team</th>\n",
       "      <th>Home team</th>\n",
       "    </tr>\n",
       "  </thead>\n",
       "  <tbody>\n",
       "    <tr>\n",
       "      <th>0</th>\n",
       "      <td>Tue, Oct 18, 2022</td>\n",
       "      <td>Philadelphia 76ers</td>\n",
       "      <td>Boston Celtics</td>\n",
       "    </tr>\n",
       "    <tr>\n",
       "      <th>1</th>\n",
       "      <td>Tue, Oct 18, 2022</td>\n",
       "      <td>Los Angeles Lakers</td>\n",
       "      <td>Golden State Warriors</td>\n",
       "    </tr>\n",
       "    <tr>\n",
       "      <th>2</th>\n",
       "      <td>Wed, Oct 19, 2022</td>\n",
       "      <td>Orlando Magic</td>\n",
       "      <td>Detroit Pistons</td>\n",
       "    </tr>\n",
       "    <tr>\n",
       "      <th>3</th>\n",
       "      <td>Wed, Oct 19, 2022</td>\n",
       "      <td>Washington Wizards</td>\n",
       "      <td>Indiana Pacers</td>\n",
       "    </tr>\n",
       "    <tr>\n",
       "      <th>4</th>\n",
       "      <td>Wed, Oct 19, 2022</td>\n",
       "      <td>Houston Rockets</td>\n",
       "      <td>Atlanta Hawks</td>\n",
       "    </tr>\n",
       "    <tr>\n",
       "      <th>...</th>\n",
       "      <td>...</td>\n",
       "      <td>...</td>\n",
       "      <td>...</td>\n",
       "    </tr>\n",
       "    <tr>\n",
       "      <th>65</th>\n",
       "      <td>Sun, Apr 9, 2023</td>\n",
       "      <td>Utah Jazz</td>\n",
       "      <td>Los Angeles Lakers</td>\n",
       "    </tr>\n",
       "    <tr>\n",
       "      <th>66</th>\n",
       "      <td>Sun, Apr 9, 2023</td>\n",
       "      <td>New Orleans Pelicans</td>\n",
       "      <td>Minnesota Timberwolves</td>\n",
       "    </tr>\n",
       "    <tr>\n",
       "      <th>67</th>\n",
       "      <td>Sun, Apr 9, 2023</td>\n",
       "      <td>Memphis Grizzlies</td>\n",
       "      <td>Oklahoma City Thunder</td>\n",
       "    </tr>\n",
       "    <tr>\n",
       "      <th>68</th>\n",
       "      <td>Sun, Apr 9, 2023</td>\n",
       "      <td>Los Angeles Clippers</td>\n",
       "      <td>Phoenix Suns</td>\n",
       "    </tr>\n",
       "    <tr>\n",
       "      <th>69</th>\n",
       "      <td>Sun, Apr 9, 2023</td>\n",
       "      <td>Golden State Warriors</td>\n",
       "      <td>Portland Trail Blazers</td>\n",
       "    </tr>\n",
       "  </tbody>\n",
       "</table>\n",
       "<p>1230 rows × 3 columns</p>\n",
       "</div>"
      ],
      "text/plain": [
       "                 Date              Away team               Home team\n",
       "0   Tue, Oct 18, 2022     Philadelphia 76ers          Boston Celtics\n",
       "1   Tue, Oct 18, 2022     Los Angeles Lakers   Golden State Warriors\n",
       "2   Wed, Oct 19, 2022          Orlando Magic         Detroit Pistons\n",
       "3   Wed, Oct 19, 2022     Washington Wizards          Indiana Pacers\n",
       "4   Wed, Oct 19, 2022        Houston Rockets           Atlanta Hawks\n",
       "..                ...                    ...                     ...\n",
       "65   Sun, Apr 9, 2023              Utah Jazz      Los Angeles Lakers\n",
       "66   Sun, Apr 9, 2023   New Orleans Pelicans  Minnesota Timberwolves\n",
       "67   Sun, Apr 9, 2023      Memphis Grizzlies   Oklahoma City Thunder\n",
       "68   Sun, Apr 9, 2023   Los Angeles Clippers            Phoenix Suns\n",
       "69   Sun, Apr 9, 2023  Golden State Warriors  Portland Trail Blazers\n",
       "\n",
       "[1230 rows x 3 columns]"
      ]
     },
     "execution_count": 3,
     "metadata": {},
     "output_type": "execute_result"
    }
   ],
   "source": [
    "months = ['october', 'november', 'december', 'january', 'february', 'march', 'april']\n",
    "\n",
    "games_df = pd.DataFrame(columns=['Date', 'Away team', 'Home team'])\n",
    "\n",
    "for month in months:\n",
    "    games_df = games_df.append(pd.DataFrame(scrape_month(month)))\n",
    "    \n",
    "games_df"
   ]
  },
  {
   "cell_type": "code",
   "execution_count": 4,
   "metadata": {},
   "outputs": [],
   "source": [
    "games_df['Date']= pd.to_datetime(games_df['Date'])"
   ]
  },
  {
   "cell_type": "markdown",
   "metadata": {},
   "source": [
    "## Save to local excel file\n",
    "I want to use this schedule for other projects"
   ]
  },
  {
   "cell_type": "code",
   "execution_count": 5,
   "metadata": {},
   "outputs": [],
   "source": [
    "games_df.to_excel('../NBA_schedule.xlsx', index=False)"
   ]
  },
  {
   "cell_type": "code",
   "execution_count": null,
   "metadata": {},
   "outputs": [],
   "source": []
  }
 ],
 "metadata": {
  "kernelspec": {
   "display_name": "Python 3",
   "language": "python",
   "name": "python3"
  },
  "language_info": {
   "codemirror_mode": {
    "name": "ipython",
    "version": 3
   },
   "file_extension": ".py",
   "mimetype": "text/x-python",
   "name": "python",
   "nbconvert_exporter": "python",
   "pygments_lexer": "ipython3",
   "version": "3.8.3"
  }
 },
 "nbformat": 4,
 "nbformat_minor": 4
}
